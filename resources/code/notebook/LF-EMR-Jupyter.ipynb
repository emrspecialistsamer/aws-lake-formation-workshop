{
 "cells":[
  {
   "cell_type":"markdown",
   "metadata":{

   },
   "source":[
    "In Lake Formation enabled clusters, Spark SQL can only read from data managed by AWS Glue Data Catalog and cannot access data managed outside of AWS Glue or Lake Formation. Data from other sources can be accessed using non-Spark SQL operations if the IAM role for other AWS Services chosen during cluster deployment has policies in place allowing the cluster to access those data sources\n",
    "\n",
    "Spark SQL can only read from Lake Formation tables\n",
    "\n",
    "So let's see how may databases you have access to, one of them should be tpc as SAML authenticatd user has SELECT permission for two of the tables in tpc database."
   ]
  },
  {
   "cell_type":"code",
   "execution_count":null,
   "metadata":{

   },
   "outputs":[

   ],
   "source":[
    "spark.sql(\"show databases\").show()"
   ]
  },
  {
   "cell_type":"markdown",
   "metadata":{

   },
   "source":[
    "As we gave SELECT permission to dl_tpc_web_page table under tpc database , let's get the count(*) of rows from the table ."
   ]
  },
  {
   "cell_type":"code",
   "execution_count":null,
   "metadata":{

   },
   "outputs":[

   ],
   "source":[
    "spark.sql( \"select count(*) from tpc.dl_tpc_web_page \").show()"
   ]
  },
  {
   "cell_type":"markdown",
   "metadata":{

   },
   "source":[
    "Let's select table for which user does not have SELECT permission and see what happens? You should receive Service: AWSGlue; Status Code: 400; Error Code: AccessDeniedException for the following "
   ]
  },
  {
   "cell_type":"code",
   "execution_count":null,
   "metadata":{

   },
   "outputs":[

   ],
   "source":[
    "spark.sql(\"SELECT * FROM tpc.dl_tpc_item limit 10\").show()"
   ]
  },
  {
   "cell_type":"markdown",
   "metadata":{

   },
   "source":[
    "For dl_tpc_customer table we only give SELECT permission at four columns COLUMN which includes ( c_first_sales_date_sk, c_first_name,c_last_name,c_first_shipto_date_sk ) following query should only show those columns for which user has access. "
   ]
  },
  {
   "cell_type":"code",
   "execution_count":null,
   "metadata":{

   },
   "outputs":[

   ],
   "source":[
    "spark.sql(\"select * from tpc.dl_tpc_customer limit 10\").show()"
   ]
  },
  {
   "cell_type":"code",
   "execution_count":null,
   "metadata":{

   },
   "outputs":[

   ],
   "source":[

   ]
  },
  {
   "cell_type":"markdown",
   "metadata":{

   },
   "source":[

   ]
  }
 ],
 "metadata":{
  "kernelspec":{
   "display_name":"Spark",
   "language":"",
   "name":"sparkkernel"
  },
  "language_info":{
   "codemirror_mode":"text/x-scala",
   "mimetype":"text/x-scala",
   "name":"scala",
   "pygments_lexer":"scala"
  }
 },
 "nbformat":4,
 "nbformat_minor":4
}